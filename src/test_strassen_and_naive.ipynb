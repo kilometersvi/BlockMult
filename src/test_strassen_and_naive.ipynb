{
 "cells": [
  {
   "cell_type": "markdown",
   "metadata": {},
   "source": [
    "# Strassen Multiplication\n",
    "by Miles Milosevich\n",
    "\n"
   ]
  },
  {
   "cell_type": "markdown",
   "metadata": {},
   "source": [
    "## History"
   ]
  },
  {
   "cell_type": "markdown",
   "metadata": {},
   "source": [
    "## Algorithm\n",
    "\n",
    "Let us consider the \"Divide and Conquer\" strategy for matrix multiplication. In this, matrices are recursively divided into smaller quadrants, or block matrices, until only 2x2 matrices remain, which are multiplied. \n",
    "\n",
    "$$\n",
    "\\begin{bmatrix} \n",
    "C_{00} & C_{01} \\\\\n",
    "C_{10} & C_{11} \n",
    "\\end{bmatrix}\n",
    "=\n",
    "\\begin{bmatrix} \n",
    "A_{00} & A_{01} \\\\\n",
    "A_{10} & A_{11} \n",
    "\\end{bmatrix}\n",
    "\\cdot\n",
    "\\begin{bmatrix} \n",
    "B_{00} & B_{01} \\\\\n",
    "B_{10} & B_{11} \n",
    "\\end{bmatrix}\n",
    "$$\n",
    "\n",
    "The formula for calculating each block of $C$:\n",
    "$$\n",
    "\\begin{align*}\n",
    "C_{00} &= A_{00} \\cdot B_{00} + A_{01} \\cdot B_{10} \\\\\n",
    "C_{01} &= A_{00} \\cdot B_{01} + A_{01} \\cdot B_{11} \\\\\n",
    "C_{10} &= A_{10} \\cdot B_{00} + A_{11} \\cdot B_{10} \\\\\n",
    "C_{11} &= A_{10} \\cdot B_{01} + A_{11} \\cdot B_{11}\n",
    "\\end{align*}\n",
    "$$\n",
    "\n",
    "For recursive block matrix multiplication, matrices are padded until they have a dim size of a power of 2; as such, matrices can be subdivided to be entirely composed of 2x2 block matrices. This padding can be removed after multiplication.\n",
    "\n",
    "#### Operations and Complexity\n",
    "- **Number of Multiplications**: $ 8n^{\\log_2 4} $ where $n$ is the dimension of the matrix, assuming no reductions or further optimizations.\n",
    "- **Time Complexity**: $ T(n) = 8T\\left(\\frac{n}{2}\\right) + O(n^2) $\n",
    "\n",
    "The matrix multiplication operation is expensive, motivating the creation of an algorithm using fewer matrix multiplication operations. Strassen's algorithm implements this; in the above Naive approach, 8 multiplication operations are used, while is Strassen's below, only 7 are used.\n",
    "\n",
    "$$\n",
    "\\begin{bmatrix} \n",
    "C_{00} & C_{01} \\\\\n",
    "C_{10} & C_{11} \n",
    "\\end{bmatrix}\n",
    "=\n",
    "\\begin{bmatrix}\n",
    "M_1 + M_4 - M_5 + M_7 & M_3 + M_5 \\\\\n",
    "M_2 + M_4 & M_1 - M_2 + M_3 + M_6\n",
    "\\end{bmatrix}\n",
    "$$\n",
    "\n",
    "Where the $M_i$ terms are computed as:\n",
    "$$\n",
    "\\begin{align*}\n",
    "M_1 &= (A_{00} + A_{11}) \\cdot (B_{00} + B_{11}) \\\\\n",
    "M_2 &= (A_{10} + A_{11}) \\cdot B_{00} \\\\\n",
    "M_3 &= A_{00} \\cdot (B_{01} - B_{11}) \\\\\n",
    "M_4 &= A_{11} \\cdot (B_{10} - B_{00}) \\\\\n",
    "M_5 &= (A_{00} + A_{01}) \\cdot B_{11} \\\\\n",
    "M_6 &= (A_{10} - A_{00}) \\cdot (B_{00} + B_{01}) \\\\\n",
    "M_7 &= (A_{01} - A_{11}) \\cdot (B_{10} + B_{11})\n",
    "\\end{align*}\n",
    "$$\n",
    "\n",
    "#### Operations and Complexity\n",
    "- **Number of Multiplications**: $7^{\\log_2(n/t)} $\n",
    "- **Time Complexity**: $ T(n) = 7T\\left(\\frac{n}{2}\\right) + O(n^2) $\n"
   ]
  },
  {
   "cell_type": "markdown",
   "metadata": {},
   "source": [
    "## Implementation\n",
    "\n",
    "Strassen's algorithm is known for only being beneficial in high-dimensional matrices of at least 512. In order process multiplication at this dimensionality, multiprocessing is implemented using the **multiprocess** library, a multiprocessing library capable of serializing constructs the builtin **multiprocessing** cannot, such as lambda functions and complex structures.\n",
    "\n",
    "For full code, see BlockMMultFactory (an object for creating matrix multiplication operators) for implementation details regarding multiprocessing and generalized matrix multiplication"
   ]
  },
  {
   "cell_type": "code",
   "execution_count": 1,
   "metadata": {},
   "outputs": [
    {
     "data": {
      "application/vnd.jupyter.widget-view+json": {
       "model_id": "4a122b05bbc24d1fbb4d25249bf9bfc2",
       "version_major": 2,
       "version_minor": 0
      },
      "text/plain": [
       "IntProgress(value=0, max=49)"
      ]
     },
     "metadata": {},
     "output_type": "display_data"
    },
    {
     "name": "stdout",
     "output_type": "stream",
     "text": [
      "Total multiplications: 49\n"
     ]
    },
    {
     "data": {
      "application/vnd.jupyter.widget-view+json": {
       "model_id": "17369b63e0e749879024d254c1335356",
       "version_major": 2,
       "version_minor": 0
      },
      "text/plain": [
       "IntProgress(value=0, max=64)"
      ]
     },
     "metadata": {},
     "output_type": "display_data"
    },
    {
     "name": "stdout",
     "output_type": "stream",
     "text": [
      "Total multiplications: 64\n",
      "Result of Strassen Matrix Multiplication:\n",
      " [[1.51175841 2.0157496  1.02343548 1.74030283]\n",
      " [1.65302182 2.01908324 0.95384942 1.96904066]\n",
      " [1.45442313 1.73306141 0.85300701 1.95457419]\n",
      " [1.19714278 1.59972217 0.84710902 1.21550315]]\n",
      "Result of Naive Matrix Multiplication:\n",
      " [[1.51175841 2.0157496  1.02343548 1.74030283]\n",
      " [1.65302182 2.01908324 0.95384942 1.96904066]\n",
      " [1.45442313 1.73306141 0.85300701 1.95457419]\n",
      " [1.19714278 1.59972217 0.84710902 1.21550315]]\n",
      "Expected result:\n",
      " [[1.51175841 2.0157496  1.02343548 1.74030283]\n",
      " [1.65302182 2.01908324 0.95384942 1.96904066]\n",
      " [1.45442313 1.73306141 0.85300701 1.95457419]\n",
      " [1.19714278 1.59972217 0.84710902 1.21550315]]\n"
     ]
    }
   ],
   "source": [
    "from blockmmult import BlockMMultFactory\n",
    "import numpy as np\n",
    "\n",
    "\n",
    "def create_strassen_callable(threshold=1, max_thread_depth=2):\n",
    "    \n",
    "    #select A and B quadrants for recursive block multiplication calls\n",
    "    scatter_targets = [\n",
    "        ((lambda A, B : A[0][0] + A[1][1]), (lambda A, B : B[0][0] + B[1][1])),\n",
    "        ((lambda A, B : A[1][0] + A[1][1]), (lambda A, B : B[0][0])),\n",
    "        ((lambda A, B : A[0][0]), (lambda A, B : B[0][1] - B[1][1])),\n",
    "        ((lambda A, B : A[1][1]), (lambda A, B : B[1][0] - B[0][0])),\n",
    "        ((lambda A, B : A[0][0] + A[0][1]), (lambda A, B : B[1][1])),\n",
    "        ((lambda A, B : A[1][0] - A[0][0]), (lambda A, B : B[0][0] + B[0][1])),\n",
    "        ((lambda A, B : A[0][1] - A[1][1]), (lambda A, B : B[1][0] + B[1][1])),\n",
    "    ]\n",
    "    \n",
    "    # how will results from the above be summated?\n",
    "    gather_tasks = [\n",
    "        (\n",
    "        #C11 & C12\n",
    "            (lambda M : M[0] + M[3] - M[4] + M[6]),\n",
    "            (lambda M : M[2] + M[4]),\n",
    "        ),(\n",
    "        #C21 & C22\n",
    "            (lambda M : M[1] + M[3]),\n",
    "            (lambda M : M[0] - M[1] + M[2] + M[5]),\n",
    "        )\n",
    "    ]\n",
    "    def strassen_mult_calls(n, threshold):\n",
    "        return 7 ** (np.log2(n / threshold))\n",
    "        \n",
    "    return BlockMMultFactory(scatter_targets, gather_tasks, threshold, max_thread_depth, strassen_mult_calls)\n",
    "\n",
    "def create_naive_callable(threshold=1, max_thread_depth=2):\n",
    "\n",
    "    scatter_targets = [\n",
    "        ((lambda A, B : A[0][0]), (lambda A, B : B[0][0])),\n",
    "        ((lambda A, B : A[0][1]), (lambda A, B : B[1][0])),\n",
    "        ((lambda A, B : A[0][0]), (lambda A, B : B[0][1])),\n",
    "        ((lambda A, B : A[0][1]), (lambda A, B : B[1][1])),\n",
    "        ((lambda A, B : A[1][0]), (lambda A, B : B[0][0])),\n",
    "        ((lambda A, B : A[1][1]), (lambda A, B : B[1][0])),\n",
    "        ((lambda A, B : A[1][0]), (lambda A, B : B[0][1])),\n",
    "        ((lambda A, B : A[1][1]), (lambda A, B : B[1][1]))\n",
    "    ]\n",
    "    gather_tasks = [\n",
    "        (\n",
    "        #C11 & C12\n",
    "            (lambda M : M[0] + M[1]),\n",
    "            (lambda M : M[2] + M[3]),\n",
    "        ),(\n",
    "        #C21 & C22\n",
    "            (lambda M : M[4] + M[5]),\n",
    "            (lambda M : M[6] + M[7]),\n",
    "        )\n",
    "    ]\n",
    "    def naive_mult_operations(n, t):\n",
    "        # Each split increases the number of operations by a factor of 8, and we split log2(n/t) times\n",
    "        return 8 ** np.log2(n / t) * (t ** 3)\n",
    "    \n",
    "    return BlockMMultFactory(scatter_targets, gather_tasks, threshold, max_thread_depth, naive_mult_operations)\n",
    "\n",
    "\n",
    "n = 4\n",
    "threshold = 1\n",
    "max_thread_depth = 2\n",
    "\n",
    "Strassen_Mult_Operator = create_strassen_callable(threshold, max_thread_depth)\n",
    "Naive_Block_Mult_Operator = create_naive_callable(threshold, max_thread_depth)\n",
    "\n",
    "A = np.random.rand(n,n)\n",
    "B = np.random.rand(n,n)\n",
    "\n",
    "C_Strassen = Strassen_Mult_Operator(A, B, verbose=2)\n",
    "C_Naive = Naive_Block_Mult_Operator(A, B, verbose=2)\n",
    "\n",
    "\n",
    "print(\"Result of Strassen Matrix Multiplication:\\n\", C_Strassen)\n",
    "print(\"Result of Naive Matrix Multiplication:\\n\", C_Naive)\n",
    "\n",
    "print(\"Expected result:\\n\", np.dot(A,B))\n",
    "\n",
    "assert np.allclose(C_Strassen,np.dot(A,B))\n",
    "assert np.allclose(C_Naive,np.dot(A,B))"
   ]
  },
  {
   "cell_type": "markdown",
   "metadata": {},
   "source": [
    "## Performance Benchmarking\n",
    "\n",
    "Here we compare the performance between the two algorithms in terms of time, number of multiplications, and error."
   ]
  },
  {
   "cell_type": "code",
   "execution_count": null,
   "metadata": {},
   "outputs": [
    {
     "name": "stdout",
     "output_type": "stream",
     "text": [
      "measuring performance for mult on matrices of size  4\n"
     ]
    },
    {
     "data": {
      "application/vnd.jupyter.widget-view+json": {
       "model_id": "045f5c93bbe648c383cf23b3796abf28",
       "version_major": 2,
       "version_minor": 0
      },
      "text/plain": [
       "IntProgress(value=0, max=49)"
      ]
     },
     "metadata": {},
     "output_type": "display_data"
    },
    {
     "data": {
      "application/vnd.jupyter.widget-view+json": {
       "model_id": "9152b55ea3874bc18cdc261a37494803",
       "version_major": 2,
       "version_minor": 0
      },
      "text/plain": [
       "IntProgress(value=0, max=64)"
      ]
     },
     "metadata": {},
     "output_type": "display_data"
    },
    {
     "name": "stdout",
     "output_type": "stream",
     "text": [
      "measuring performance for mult on matrices of size  8\n"
     ]
    },
    {
     "data": {
      "application/vnd.jupyter.widget-view+json": {
       "model_id": "b88f475878b6414f94e969ecd5258b93",
       "version_major": 2,
       "version_minor": 0
      },
      "text/plain": [
       "IntProgress(value=0, max=343)"
      ]
     },
     "metadata": {},
     "output_type": "display_data"
    },
    {
     "data": {
      "application/vnd.jupyter.widget-view+json": {
       "model_id": "840ddcf4c9f3420ba6366cceeef969c5",
       "version_major": 2,
       "version_minor": 0
      },
      "text/plain": [
       "IntProgress(value=0, max=512)"
      ]
     },
     "metadata": {},
     "output_type": "display_data"
    },
    {
     "name": "stdout",
     "output_type": "stream",
     "text": [
      "measuring performance for mult on matrices of size  16\n"
     ]
    },
    {
     "data": {
      "application/vnd.jupyter.widget-view+json": {
       "model_id": "8c3a2ce94609457189f1b0653fff5dee",
       "version_major": 2,
       "version_minor": 0
      },
      "text/plain": [
       "IntProgress(value=0, max=2401)"
      ]
     },
     "metadata": {},
     "output_type": "display_data"
    },
    {
     "data": {
      "application/vnd.jupyter.widget-view+json": {
       "model_id": "7d8eb7398fcf4ef38e19590ef2508b10",
       "version_major": 2,
       "version_minor": 0
      },
      "text/plain": [
       "IntProgress(value=0, max=4096)"
      ]
     },
     "metadata": {},
     "output_type": "display_data"
    },
    {
     "name": "stdout",
     "output_type": "stream",
     "text": [
      "measuring performance for mult on matrices of size  32\n"
     ]
    },
    {
     "data": {
      "application/vnd.jupyter.widget-view+json": {
       "model_id": "45d1c1c01a0040788a386e52a578be42",
       "version_major": 2,
       "version_minor": 0
      },
      "text/plain": [
       "IntProgress(value=0, max=16807)"
      ]
     },
     "metadata": {},
     "output_type": "display_data"
    },
    {
     "data": {
      "application/vnd.jupyter.widget-view+json": {
       "model_id": "bc1228b4d73f4586999e476501dc0957",
       "version_major": 2,
       "version_minor": 0
      },
      "text/plain": [
       "IntProgress(value=0, max=32768)"
      ]
     },
     "metadata": {},
     "output_type": "display_data"
    },
    {
     "name": "stdout",
     "output_type": "stream",
     "text": [
      "measuring performance for mult on matrices of size  64\n"
     ]
    },
    {
     "data": {
      "application/vnd.jupyter.widget-view+json": {
       "model_id": "dfda18ffd63a48a78a022575924accbe",
       "version_major": 2,
       "version_minor": 0
      },
      "text/plain": [
       "IntProgress(value=0, max=117649)"
      ]
     },
     "metadata": {},
     "output_type": "display_data"
    },
    {
     "data": {
      "application/vnd.jupyter.widget-view+json": {
       "model_id": "f1f3f32019d74a0db35efa9bcd4bdd37",
       "version_major": 2,
       "version_minor": 0
      },
      "text/plain": [
       "IntProgress(value=0, max=262144)"
      ]
     },
     "metadata": {},
     "output_type": "display_data"
    },
    {
     "name": "stdout",
     "output_type": "stream",
     "text": [
      "measuring performance for mult on matrices of size  128\n"
     ]
    },
    {
     "data": {
      "application/vnd.jupyter.widget-view+json": {
       "model_id": "f57635d4e0844e9ea355ad14d82103ad",
       "version_major": 2,
       "version_minor": 0
      },
      "text/plain": [
       "IntProgress(value=0, max=823543)"
      ]
     },
     "metadata": {},
     "output_type": "display_data"
    },
    {
     "data": {
      "application/vnd.jupyter.widget-view+json": {
       "model_id": "66b422b4a7d94b11851274d8193289d6",
       "version_major": 2,
       "version_minor": 0
      },
      "text/plain": [
       "IntProgress(value=0, max=2097152)"
      ]
     },
     "metadata": {},
     "output_type": "display_data"
    },
    {
     "name": "stdout",
     "output_type": "stream",
     "text": [
      "measuring performance for mult on matrices of size  256\n"
     ]
    },
    {
     "data": {
      "application/vnd.jupyter.widget-view+json": {
       "model_id": "3fb5328ce55942b5a463a16c6308c296",
       "version_major": 2,
       "version_minor": 0
      },
      "text/plain": [
       "IntProgress(value=0, max=5764801)"
      ]
     },
     "metadata": {},
     "output_type": "display_data"
    }
   ],
   "source": [
    "import timeit\n",
    "import pandas as pd\n",
    "\n",
    "def compare_errors(size, num_trials):\n",
    "    errors_naive = []\n",
    "    errors_strassen = []\n",
    "\n",
    "    for _ in range(num_trials):\n",
    "        A = generate_random_matrix(size)\n",
    "        B = generate_random_matrix(size)\n",
    "\n",
    "        # Standard numpy dot product\n",
    "        result_dot = np.dot(A, B)\n",
    "\n",
    "        # Naive matrix multiplication\n",
    "        result_naive = naive_matrix_multiplication(A, B)\n",
    "        error_naive = np.linalg.norm(result_naive - result_dot)\n",
    "\n",
    "        # Strassen's matrix multiplication\n",
    "        result_strassen = strassen_matrix_multiplication(A, B)  # Implement this function\n",
    "        error_strassen = np.linalg.norm(result_strassen - result_dot)\n",
    "\n",
    "        errors_naive.append(error_naive)\n",
    "        errors_strassen.append(error_strassen)\n",
    "\n",
    "    return np.mean(errors_naive), np.mean(errors_strassen)\n",
    "\n",
    "\n",
    "def measure_performance(size, num_trials, threshold=1, max_thread_depth=2, verbose=1):\n",
    "    \n",
    "    Strassen_Mult_Operator = create_strassen_callable(threshold, max_thread_depth)\n",
    "    Naive_Block_Mult_Operator = create_naive_callable(threshold, max_thread_depth)\n",
    "\n",
    "    strassen_times = []\n",
    "    naiveblock_times = []\n",
    "    strassen_counts = []\n",
    "    naiveblock_counts = []\n",
    "    strassen_errs = []\n",
    "    naiveblock_errs = []\n",
    "    \n",
    "    for _ in range(num_trials):\n",
    "        A = np.random.rand(size,size)\n",
    "        B = np.random.rand(size,size)\n",
    "        res_true = np.dot(A,B)\n",
    "                \n",
    "        # Strassen\n",
    "        start_time = timeit.default_timer()\n",
    "        res, count = Strassen_Mult_Operator(A, B, verbose=verbose, return_count=True)\n",
    "        strassen_times.append(timeit.default_timer() - start_time)\n",
    "        strassen_counts.append(count)\n",
    "        strassen_errs.append(np.linalg.norm(res - res_true))\n",
    "        \n",
    "        # Naive\n",
    "        start_time = timeit.default_timer()\n",
    "        res, count = Naive_Block_Mult_Operator(A, B, verbose=verbose, return_count=True)\n",
    "        naiveblock_times.append(timeit.default_timer() - start_time)\n",
    "        naiveblock_counts.append(count)\n",
    "        naiveblock_errs.append(np.linalg.norm(res - res_true))\n",
    "        \n",
    "\n",
    "    return np.mean(strassen_times), np.mean(naiveblock_times), np.mean(strassen_counts), np.mean(naiveblock_counts), np.mean(strassen_errs), np.mean(naiveblock_errs)\n",
    "\n",
    "max_power_of_2_dim = 11\n",
    "sizes = [2**n for n in range(2, max_power_of_2_dim+1)]\n",
    "num_trials = 1\n",
    "threshold = 1\n",
    "max_thread_depth = 3\n",
    "verbose = 1\n",
    "\n",
    "data = []\n",
    "for size in sizes:\n",
    "    print('measuring performance for mult on matrices of size ', size)\n",
    "    performance = measure_performance(size, num_trials, threshold, max_thread_depth, verbose)\n",
    "    data.append([size, *performance])\n",
    "\n",
    "df = pd.DataFrame(data, columns=['Matrix Size', 'Strassen Time', 'Naive Time', 'Strassen Multiplications', 'Naive Multiplications', 'Strassen Error', 'Naive Error'])"
   ]
  },
  {
   "cell_type": "code",
   "execution_count": null,
   "metadata": {},
   "outputs": [],
   "source": [
    "from IPython.display import display, HTML\n",
    "\n",
    "display(HTML(df.to_html()))"
   ]
  },
  {
   "cell_type": "markdown",
   "metadata": {},
   "source": [
    "## Derivation\n",
    "\n",
    "### step 1\n",
    "Start by reformulating the problem of multiplying two $2 \\times 2$ matrices into a matrix-vector product problem. This step abstracts the matrix multiplication into a more linear algebra-focused perspective, aiding in the simplification and manipulation of terms.\n",
    "\n",
    "Given two $2 \\times 2$ matrices:\n",
    "$$\n",
    "A = \\begin{pmatrix} a & b \\\\ c & d \\end{pmatrix}, \\quad B = \\begin{pmatrix} e & f \\\\ g & h \\end{pmatrix}\n",
    "$$\n",
    "\n",
    "The objective is to compute the product \\(C = AB\\). We reshape this multiplication problem into a matrix-vector product by reorganizing the elements of \\(A\\) and \\(B\\) into new configurations that expose their linear interactions more clearly:\n",
    "$$\n",
    "\\begin{pmatrix}\n",
    "a & 0 & b & 0 \\\\\n",
    "0 & a & 0 & b \\\\\n",
    "c & 0 & d & 0 \\\\\n",
    "0 & c & 0 & d\n",
    "\\end{pmatrix}\n",
    "\\times\n",
    "\\begin{pmatrix} e \\\\ f \\\\ g \\\\ h \\end{pmatrix}\n",
    "$$\n",
    "\n",
    "### Step 2: Decompose and Rearrange\n",
    "Seek a decomposition of the \\(4 \\times 4\\) matrix where each component (let's call these \\(M_i\\)) involves simpler, potentially rank-one matrices that are easier to handle. The goal is to express the large matrix as a sum of products where each product involves fewer independent variables. This part involves creative insight to \"guess\" beneficial decompositions.\n",
    "\n",
    "For example, decompose the matrix into parts where each contributes separately to the output matrix with minimal overlap in variables used:\n",
    "$$\n",
    "\\begin{pmatrix}\n",
    "a & 0 & b & 0 \\\\\n",
    "0 & a & 0 & b \\\\\n",
    "c & 0 & d & 0 \\\\\n",
    "0 & c & 0 & d\n",
    "\\end{pmatrix}\n",
    "\\rightarrow \\text{Decomposed into several simpler matrices}\n",
    "$$\n",
    "\n",
    "### Step 3: Identify Rank-One Components\n",
    "Strive to represent these decomposed matrices as sums of rank-one matrices (matrices that can be written as the outer product of two vectors). This step is crucial as it simplifies matrix multiplication to scalar multiplications, drastically reducing computational complexity.\n",
    "\n",
    "### Step 4: Apply Linear Combinations\n",
    "For each decomposed matrix, use linear combinations of the elements $a, b, c, d$ and $e, f, g, h$ to form new matrices $M_i$ whose sum recaptures the original $4 \\times 4$ matrix. Each $M_i$ corresponds to a specific manipulation of the elements aimed at isolating particular interactions between $A$ and $B$.\n",
    "\n",
    "### Step 5: Reassembly\n",
    "Reconstruct the product matrix $C$ by summing the contributions from each $M_i$ applied to the vector of $B$'s components. The goal is to ensure that the collective effect of these simplified products gives the correct entries of $C$.\n",
    "\n",
    "(from Yuval, 1978)"
   ]
  },
  {
   "cell_type": "markdown",
   "metadata": {},
   "source": [
    "## Discussion\n",
    "\n",
    "Although Strassen's algorithm clearly outperformed the Naive Block multiplication, Strassen's algorithm is not often used in practice. Better methods exist for sparse matrices, and most matrix multiplication occurs in the smaller dimensions where its greater overhead outweighs its increased error accumulation."
   ]
  },
  {
   "cell_type": "markdown",
   "metadata": {},
   "source": [
    "## References\n",
    "\n",
    "Gideon Yuval,\n",
    "A simple proof of Strassen's result,\n",
    "Information Processing Letters,\n",
    "Volume 7, Issue 6,\n",
    "1978,\n",
    "Pages 285-286,\n",
    "ISSN 0020-0190,\n",
    "https://doi.org/10.1016/0020-0190(78)90018-2.\n",
    "(https://www.sciencedirect.com/science/article/pii/0020019078900182)\n",
    "Keywords: Strassen's method; matrix multiplication; n2.81\n",
    "    \n",
    "    \n",
    "https://cs.stackexchange.com/questions/130022/what-is-the-intuition-behind-strassens-algorithm"
   ]
  },
  {
   "cell_type": "code",
   "execution_count": null,
   "metadata": {},
   "outputs": [],
   "source": []
  }
 ],
 "metadata": {
  "kernelspec": {
   "display_name": "Python 3 (ipykernel)",
   "language": "python",
   "name": "python3"
  },
  "language_info": {
   "codemirror_mode": {
    "name": "ipython",
    "version": 3
   },
   "file_extension": ".py",
   "mimetype": "text/x-python",
   "name": "python",
   "nbconvert_exporter": "python",
   "pygments_lexer": "ipython3",
   "version": "3.9.17"
  }
 },
 "nbformat": 4,
 "nbformat_minor": 4
}
